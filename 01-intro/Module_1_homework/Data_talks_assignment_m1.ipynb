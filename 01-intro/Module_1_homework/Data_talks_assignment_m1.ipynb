{
  "nbformat": 4,
  "nbformat_minor": 0,
  "metadata": {
    "colab": {
      "provenance": []
    },
    "kernelspec": {
      "name": "python3",
      "display_name": "Python 3"
    },
    "language_info": {
      "name": "python"
    }
  },
  "cells": [
    {
      "cell_type": "code",
      "execution_count": 41,
      "metadata": {
        "id": "gDx70z5hsCon"
      },
      "outputs": [],
      "source": [
        "import pandas as pd\n",
        "import numpy as np"
      ]
    },
    {
      "cell_type": "code",
      "source": [
        "pd.__version__"
      ],
      "metadata": {
        "colab": {
          "base_uri": "https://localhost:8080/",
          "height": 36
        },
        "id": "SEOyIZvasP0q",
        "outputId": "aff6ae28-ece5-4fca-f6af-48b5a55ff2de"
      },
      "execution_count": 2,
      "outputs": [
        {
          "output_type": "execute_result",
          "data": {
            "text/plain": [
              "'2.2.2'"
            ],
            "application/vnd.google.colaboratory.intrinsic+json": {
              "type": "string"
            }
          },
          "metadata": {},
          "execution_count": 2
        }
      ]
    },
    {
      "cell_type": "code",
      "source": [
        "#with open(\"car_fuel_price.csv\", 'r') as car_fuel_price_data:\n",
        "car_fuel_price_df = pd.read_csv(\"car_fuel_efficiency.csv\")\n",
        "print(car_fuel_price_df.head)"
      ],
      "metadata": {
        "colab": {
          "base_uri": "https://localhost:8080/"
        },
        "id": "oCp5P0MBtXTU",
        "outputId": "fdaf9dac-9bc1-4099-cc01-499be643f972"
      },
      "execution_count": 6,
      "outputs": [
        {
          "output_type": "stream",
          "name": "stdout",
          "text": [
            "<bound method NDFrame.head of       engine_displacement  num_cylinders  horsepower  vehicle_weight  \\\n",
            "0                     170            3.0       159.0     3413.433759   \n",
            "1                     130            5.0        97.0     3149.664934   \n",
            "2                     170            NaN        78.0     3079.038997   \n",
            "3                     220            4.0         NaN     2542.392402   \n",
            "4                     210            1.0       140.0     3460.870990   \n",
            "...                   ...            ...         ...             ...   \n",
            "9699                  140            5.0       164.0     2981.107371   \n",
            "9700                  180            NaN       154.0     2439.525729   \n",
            "9701                  220            2.0       138.0     2583.471318   \n",
            "9702                  230            4.0       177.0     2905.527390   \n",
            "9703                  270            3.0       140.0     2908.043477   \n",
            "\n",
            "      acceleration  model_year  origin fuel_type         drivetrain  \\\n",
            "0             17.7        2003  Europe  Gasoline    All-wheel drive   \n",
            "1             17.8        2007     USA  Gasoline  Front-wheel drive   \n",
            "2             15.1        2018  Europe  Gasoline  Front-wheel drive   \n",
            "3             20.2        2009     USA    Diesel    All-wheel drive   \n",
            "4             14.4        2009  Europe  Gasoline    All-wheel drive   \n",
            "...            ...         ...     ...       ...                ...   \n",
            "9699          17.3        2013  Europe    Diesel  Front-wheel drive   \n",
            "9700          15.0        2004     USA  Gasoline    All-wheel drive   \n",
            "9701          15.1        2008     USA    Diesel    All-wheel drive   \n",
            "9702          19.4        2011     USA    Diesel  Front-wheel drive   \n",
            "9703          14.7        2005    Asia    Diesel    All-wheel drive   \n",
            "\n",
            "      num_doors  fuel_efficiency_mpg  \n",
            "0           0.0            13.231729  \n",
            "1           0.0            13.688217  \n",
            "2           0.0            14.246341  \n",
            "3           2.0            16.912736  \n",
            "4           2.0            12.488369  \n",
            "...         ...                  ...  \n",
            "9699        NaN            15.101802  \n",
            "9700        0.0            17.962326  \n",
            "9701       -1.0            17.186587  \n",
            "9702        1.0            15.331551  \n",
            "9703       -1.0            14.884467  \n",
            "\n",
            "[9704 rows x 11 columns]>\n"
          ]
        }
      ]
    },
    {
      "cell_type": "code",
      "source": [
        "fuel_type_count = car_fuel_price_df['fuel_type'].value_counts()\n",
        "print(fuel_type_count)"
      ],
      "metadata": {
        "colab": {
          "base_uri": "https://localhost:8080/"
        },
        "id": "V3cgqtgUwey5",
        "outputId": "d0cf2f10-9043-4cb9-f91a-a14e820781a3"
      },
      "execution_count": 7,
      "outputs": [
        {
          "output_type": "stream",
          "name": "stdout",
          "text": [
            "fuel_type\n",
            "Gasoline    4898\n",
            "Diesel      4806\n",
            "Name: count, dtype: int64\n"
          ]
        }
      ]
    },
    {
      "cell_type": "code",
      "source": [
        "missing_values= car_fuel_price_df.isnull().sum()\n",
        "print(missing_values)"
      ],
      "metadata": {
        "colab": {
          "base_uri": "https://localhost:8080/"
        },
        "id": "jPskeiknw3I6",
        "outputId": "208015c0-1f30-4a6d-ead5-7914c1badd11"
      },
      "execution_count": 13,
      "outputs": [
        {
          "output_type": "stream",
          "name": "stdout",
          "text": [
            "engine_displacement      0\n",
            "num_cylinders          482\n",
            "horsepower             708\n",
            "vehicle_weight           0\n",
            "acceleration           930\n",
            "model_year               0\n",
            "origin                   0\n",
            "fuel_type                0\n",
            "drivetrain               0\n",
            "num_doors              502\n",
            "fuel_efficiency_mpg      0\n",
            "dtype: int64\n"
          ]
        }
      ]
    },
    {
      "cell_type": "code",
      "source": [
        "max_fuel_eff = car_fuel_price_df['fuel_efficiency_mpg'].max()\n",
        "print(max_fuel_eff)"
      ],
      "metadata": {
        "colab": {
          "base_uri": "https://localhost:8080/"
        },
        "id": "ZfjW0jb4x2jo",
        "outputId": "026f261e-d093-4189-f079-8034d93c6b72"
      },
      "execution_count": 14,
      "outputs": [
        {
          "output_type": "stream",
          "name": "stdout",
          "text": [
            "25.96722204888372\n"
          ]
        }
      ]
    },
    {
      "cell_type": "code",
      "source": [
        "max_fuel_eff_asia = car_fuel_price_df[car_fuel_price_df['origin'] == 'Asia']['fuel_efficiency_mpg'].max()\n",
        "print(f\"Max fuel eff: {max_fuel_eff_asia}\")"
      ],
      "metadata": {
        "colab": {
          "base_uri": "https://localhost:8080/"
        },
        "id": "gMBze_sDzLC_",
        "outputId": "da96f3cb-2336-406b-c1c5-cc5ad8113759"
      },
      "execution_count": 19,
      "outputs": [
        {
          "output_type": "stream",
          "name": "stdout",
          "text": [
            "Max fuel eff: 23.759122836520497\n"
          ]
        }
      ]
    },
    {
      "cell_type": "code",
      "source": [
        "horsepower_column = car_fuel_price_df['horsepower']\n",
        "\n",
        "hp_median_val_original = horsepower_column.median()\n",
        "print(f'Median value of Horsepower: {hp_median_val_original}')\n",
        "\n",
        "most_freq_hp_val = horsepower_column.mode()\n",
        "print(f'HP Mode: {most_freq_hp_val}')\n",
        "\n",
        "horsepower_column.fillna(most_freq_hp_val, inplace=True)\n",
        "\n",
        "hp_median_val_updated = horsepower_column.median()\n",
        "print(f'Updated Median value of Horsepower: {hp_median_val_updated}')"
      ],
      "metadata": {
        "colab": {
          "base_uri": "https://localhost:8080/"
        },
        "id": "iDjTauwt0IYM",
        "outputId": "8b4f91d4-e154-465b-f44e-3c983796ad12"
      },
      "execution_count": 26,
      "outputs": [
        {
          "output_type": "stream",
          "name": "stdout",
          "text": [
            "Median value of Horsepower: 149.0\n",
            "HP Mode: 0    152.0\n",
            "Name: horsepower, dtype: float64\n",
            "Updated Median value of Horsepower: 149.0\n"
          ]
        }
      ]
    },
    {
      "cell_type": "code",
      "source": [
        "asian_cars = car_fuel_price_df[car_fuel_price_df['origin'] == 'Asia']\n",
        "# print(asian_cars)\n",
        "\n",
        "columns_weight_model_year = asian_cars[['vehicle_weight', 'model_year']]\n",
        "# print(columns_weight_model_year)\n",
        "\n",
        "first_7_rows_X = columns_weight_model_year.head(7)\n",
        "#print(first_7_rows_X)\n",
        "\n",
        "XT = first_7_rows_X.T\n",
        "\n",
        "XTX = XT @ first_7_rows_X # or first_7_rows_X.T.dot(first_7_rows_X)\n",
        "# print(XTX)\n",
        "\n",
        "inv_XTX = np.linalg.inv(XTX)\n",
        "# print(inv_XTX)\n",
        "\n",
        "y = [1100, 1300, 800, 900, 1000, 1100, 1200]\n",
        "\n",
        "w = inv_XTX @ XT @ y\n",
        "print(w)\n",
        "\n",
        "sum_w = w.sum()\n",
        "print(f'Sum of w: {sum_w}')\n",
        "# sum_of_vehical_weight = columns_weight_model_year['vehicle_weight'].sum()\n",
        "# print(f'Sum of vehical weight: {sum_of_vehical_weight}')"
      ],
      "metadata": {
        "colab": {
          "base_uri": "https://localhost:8080/"
        },
        "id": "8gcPS06I4mQj",
        "outputId": "ad1c8c75-2d0f-4a77-f8c4-71677c58714f"
      },
      "execution_count": 49,
      "outputs": [
        {
          "output_type": "stream",
          "name": "stdout",
          "text": [
            "0    0.013864\n",
            "1    0.504907\n",
            "dtype: float64\n",
            "Sum of w: 0.5187709081074017\n"
          ]
        }
      ]
    }
  ]
}